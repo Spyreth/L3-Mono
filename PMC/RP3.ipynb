{
 "cells": [
  {
   "cell_type": "markdown",
   "metadata": {},
   "source": [
    "<span style=\"font-size: 18px; font-weight: bold\">PASTICIER Benjamin</span><br>\n",
    "<span style=\"font-size: 18px; font-weight: bold\">WEIZMANN Allan</span><br>\n",
    "<span style=\"font-size: 18px; font-weight: bold\">ADDA BRAHIM Abdel Jamil</span><br>\n",
    "<span style=\"font-size: 18px; font-weight: bold\">SIVARAJAH Monija</span><br>\n",
    "<br><br>\n",
    "\n",
    "\n",
    "<center><span style=\"font-size: 40px; font-weight: bold\">Phyysique des milieux continus</span></center><br>\n",
    "<center><span style=\"font-size: 35px; font-weight: bold\">RP3 - Hydrodynamique</span></center>\n",
    "<br><br><br><br>\n",
    "\n",
    "\n",
    "<span style=\"font-size: 30px; font-weight: bold\">Introduction</span> <a class=\"anchor\" id=\"Sec1\"></a>\n",
    "\n",
    "L'objectif de ce RP est de déterminer le temps nécéssaire pour filtrer le café contenu dans une cafetière à piston.\n",
    "\n",
    "Ce type de cafetière possède un piston auquel est collé un filtre composé de mailles de fer. On commence par placer permettant de séparer le café des grains en poussant sur le piston. On doit donc déterminer le temps nécéssaire pour pousser le piston jusqu'à ce que tout le café soit filtré.\n",
    "<br><br><br>\n",
    "\n",
    "\n",
    "<span style=\"font-size: 30px; font-weight: bold\">Hypothèses</span> <a class=\"anchor\" id=\"Sec1\"></a>\n",
    "\n",
    "Pour modéliser notre problème, nous utiliserons les hypothèses suivantes :\n",
    "- On considère le café comme étant un liquide visqueux homogène, avec une viscosité proche de l'eau\n",
    "- La température du café reste constante, et on prendra $T = 85°C$ puisqu'on place de l'eau bouillante dans la cafetière\n",
    "- \n"
   ]
  },
  {
   "cell_type": "markdown",
   "metadata": {},
   "source": []
  }
 ],
 "metadata": {
  "kernelspec": {
   "display_name": "Python 3",
   "language": "python",
   "name": "python3"
  },
  "language_info": {
   "codemirror_mode": {
    "name": "ipython",
    "version": 3
   },
   "file_extension": ".py",
   "mimetype": "text/x-python",
   "name": "python",
   "nbconvert_exporter": "python",
   "pygments_lexer": "ipython3",
   "version": "3.11.4"
  }
 },
 "nbformat": 4,
 "nbformat_minor": 2
}
