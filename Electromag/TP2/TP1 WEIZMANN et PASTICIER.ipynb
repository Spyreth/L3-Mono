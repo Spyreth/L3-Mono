{
 "cells": [
  {
   "cell_type": "markdown",
   "id": "de1d72ca",
   "metadata": {},
   "source": [
    "<span style=\"font-size: 18px; font-weight: bold\">PASTICIER Benjamin</span><br>\n",
    "<span style=\"font-size: 18px; font-weight: bold\">WEIZMANN Allan</span><br>\n",
    "<br><br>\n",
    "\n",
    "<center><span style=\"font-size: 40px; font-weight: bold\">LU3PY121 - Electromagntésime et Optique</span></center><br>\n",
    "<center><span style=\"font-size: 35px; font-weight: bold\">TP1 - Formation des images</span></center>\n",
    "<br><br>"
   ]
  },
  {
   "cell_type": "markdown",
   "id": "27db53f0",
   "metadata": {},
   "source": [
    "<span style=\"font-size: 30px; font-weight: bold\">Sommaire</span>\n",
    "\n",
    "1. <a href=\"#Sec1\"><span style=\"font-size: 20px;\">Introduction</span></a>\n",
    "2. <a href=\"#Sec2\"><span style=\"font-size: 20px;\">Lentille et image</span></a>\n",
    "2. <a href=\"#Sec3\"><span style=\"font-size: 20px;\">Détermination d'une distance focale</span></a>\n",
    "3. <a href=\"#Sec4\"><span style=\"font-size: 20px;\">L'oeil</span></a>\n",
    "5. <a href=\"#Sec5\"><span style=\"font-size: 20px;\">Conclusion</span></a>\n",
    "\n",
    "<br><br><br>"
   ]
  },
  {
   "cell_type": "markdown",
   "id": "37b4f43c",
   "metadata": {},
   "source": [
    "<span style=\"font-size: 30px; font-weight: bold\">Introduction</span> <a class=\"anchor\" id=\"Sec1\"></a>"
   ]
  },
  {
   "cell_type": "markdown",
   "id": "71844b0e",
   "metadata": {},
   "source": [
    "Ce TP a pour but d'étudier la formation d'images via des systèmes optiques simples, et de vérifier certaines lois les caracérisant.\n",
    "Dans un premier temps, on regardera comment former l'image d'un objet via une lentille convergente, puis nous étudierons le principe de fonctionnement d'un oeil en préparant un oeil modèle. Enfin, nous analyserons le fonctionnement d'une lunette astronomique, modélisée par un système optique simple constitué de deux lentilles."
   ]
  },
  {
   "cell_type": "code",
   "execution_count": 1,
   "id": "e52e4cca",
   "metadata": {},
   "outputs": [],
   "source": [
    "# Importation des librairies utiles\n",
    "import numpy as np\n",
    "import matplotlib.pyplot as plt\n",
    "from scipy.optimize import curve_fit"
   ]
  },
  {
   "cell_type": "markdown",
   "id": "607b3c54",
   "metadata": {},
   "source": [
    "<br><br><br>\n",
    "<span style=\"font-size: 30px; font-weight: bold\">Lentille et image</span> <a class=\"anchor\" id=\"Sec2\"></a>"
   ]
  },
  {
   "cell_type": "markdown",
   "id": "08fb9ffd",
   "metadata": {},
   "source": [
    "<span style=\"font-size: 20px; font-weight: bold\">Utilisation de la relation de conjugaison</span>\n",
    "\n",
    "<p> Pour une lentille, on a les relations de conjugaison suivantes, respectivement de Descartes et de Newton :</p>\n",
    "\n",
    "$$ \\frac{1}{OA'} - \\frac{1}{OA} = \\frac{1}{f'}$$  \n",
    "\n",
    "$$ FA \\cdot F'A' = -f'²$$ \n",
    "\n",
    "<p> Pour vérifier la 1ère relation, on place une lentille entre un objet et un écran d'observation. En faisant varier la distance D entre l'objet et l'écran, on note OA la distance entre la lentille et l'objet et OA' la distance entre la lentille et l'image. On trace ensuite la courbe de 1/OA' en fonction de 1/OA, et on devrait obtenir une relation linéaire du type ax+b avec a = 1 et b = 1/f' . </p>"
   ]
  },
  {
   "cell_type": "code",
   "execution_count": null,
   "id": "aca730cd",
   "metadata": {},
   "outputs": [],
   "source": [
    "# Données\n",
    "D = np.array([]) #en m\n",
    "OA = np.array([]) # en m\n",
    "OAprime = np.array([]) # en m\n",
    "\n",
    "erreurs_OA = np.array([]) # en m\n",
    "erreurs_OAprime = np.array([]) # en m\n",
    "\n",
    "\n",
    "# Calcul de 1/0A, 1/0A', erreys\n",
    "UnsurOA = 1 / OA\n",
    "UnsurOAprime = 1 / OAprime\n",
    "\n",
    "erreurs_UnsurOA = #### A REMPLIR ####\n",
    "erreurs_UnsurOAprime =  #### A REMPLIR ####\n",
    "\n",
    "\n",
    "# Graphique\n",
    "plt.figure(figsize=(10,8))\n",
    "plt.errorbar(UnsurOA,UnsurOAprime, yerr=erreurs_UnsurOAprime, xerr=erreurs_UnsurOA, fmt='o', label=\"données et barres d'erreurs\")\n",
    "plt.xlabel(\"$1/OA$ (en m$^{-1}$)\")\n",
    "plt.ylabel(\"$1/OA'$ (en m$^{-1}$)\")\n",
    "plt.title(\"Vérification de la relation de conjugaison avec barres d'erreurs\")\n",
    "plt.legend(loc=2)\n",
    "plt.grid()"
   ]
  },
  {
   "cell_type": "markdown",
   "id": "5e32e092",
   "metadata": {},
   "source": [
    "On créé ensuite un ajustement selon la relation de conjugaison de Descartes pour voir si la valeur obtenue est bien la même que la valeur théorique de la lentille."
   ]
  },
  {
   "cell_type": "code",
   "execution_count": null,
   "id": "dfc86b95",
   "metadata": {},
   "outputs": [],
   "source": [
    "# Modèle\n",
    "def conjugaison(x,f):\n",
    "    ''' \n",
    "    Renvoie la valeur théorique de 1/OA' selon 1/OA et f'\n",
    "    '''\n",
    "    return x + 1/f\n",
    "\n",
    "\n",
    "# Paramètres initiaux\n",
    "f0 = 1\n",
    "p0 = np.array([f0]) \n",
    "\n",
    "\n",
    "# Ajustement\n",
    "popt, cov = curve_fit(conjugaison,UnsurOA,UnsurOAprime, sigma=erreurs_UnsurOAprime, p0=p0)\n",
    "f_opti = popt # les paramètres d'ajustement\n",
    "matrice = optimisation[1] # la matrice de corrélation"
   ]
  }
 ],
 "metadata": {
  "kernelspec": {
   "display_name": "Python 3 (ipykernel)",
   "language": "python",
   "name": "python3"
  },
  "language_info": {
   "codemirror_mode": {
    "name": "ipython",
    "version": 3
   },
   "file_extension": ".py",
   "mimetype": "text/x-python",
   "name": "python",
   "nbconvert_exporter": "python",
   "pygments_lexer": "ipython3",
   "version": "3.11.4"
  }
 },
 "nbformat": 4,
 "nbformat_minor": 5
}
