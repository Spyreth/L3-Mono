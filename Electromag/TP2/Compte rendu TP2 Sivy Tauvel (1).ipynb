{
 "cells": [
  {
   "cell_type": "markdown",
   "id": "8152e530",
   "metadata": {
    "id": "8152e530"
   },
   "source": [
    "## TP n°2 : Polarisation\n",
    "\n",
    "### Louison Tauvel - 21107086\n",
    "\n",
    "### Lucas Sivy - 21101459"
   ]
  },
  {
   "cell_type": "markdown",
   "id": "9342f028",
   "metadata": {},
   "source": [
    "## Introduction"
   ]
  },
  {
   "cell_type": "markdown",
   "id": "ebb31c80",
   "metadata": {
    "id": "ebb31c80"
   },
   "source": [
    "Au cours de ce TP nous allons étudier la polarisation de la lumière et comment celle-ci peut être manipulé via différents instruments. Pour ce faire nous utiliserons plusieurs outils tel que les polariseurs/analyseurs, une lame $\\frac{\\lambda}{2}$,une lame $\\frac{\\lambda}{4}$ et une lame de verre à face parrallèle. \n",
    "Toute nos meusures serons accompagnées d'inceritudes, incertitudes que nous propogerons dans nos calculs avec l'aide du module QExpy, à qui l'on donnera les incertitudes de meusures qu'il propagera automatiquement afin de gagner du temps.\n",
    "\n",
    "L'objectif sera dans un premier temps d'étudier la polarisation rectiligne via l'utilisation de polaroïdes et ainsi, de vérifier la loi de Malus.\n",
    "\n",
    "Nous verrons ensuite les lames biréfringentes demi et quart d'onde, et chercherons à étudier leurs influences respectives sur une onde de polarisation rectiligne. Nous chercherons les liens mathématiques entres les différences d'angles de nos outils ainsi que la luminosité de sortie.\n",
    "\n",
    "Enfin, l'objectif sera de déterminer l'indice optique d'une lame de verre en étudier son angle de Brewster lors du passage de l'air au verre par le faisceau."
   ]
  },
  {
   "cell_type": "markdown",
   "id": "834e641e",
   "metadata": {},
   "source": [
    "## I \\ Onde strictement monochromatique"
   ]
  },
  {
   "cell_type": "markdown",
   "id": "8f0aa184",
   "metadata": {},
   "source": [
    "Nous savons que pour une onde monochromatique, les coordonnées du champ électrique s'écrivent en coordonnées cartésiennes telles que :\n",
    "\n",
    "$$\\vec{E} = \\begin{pmatrix}\n",
    "E_{0x}cos(kz-wt)\\\\\n",
    "E_{0y}cos(kz-wt+\\Delta\\phi \\\\\n",
    "0\n",
    "\\end{pmatrix}\n",
    "$$\n",
    "\n",
    "où : \n",
    "- $\\omega$ est la pulsation de l'onde\n",
    "- $k$ est la norme du vecteur d'onde de l'onde\n",
    "- $z$ est la coordonnée spatiale de l'onde\n",
    "- $t$ est la coordonnée temporelle de l'onde\n",
    "- $E_{0,x}$ et $E_{0,y}$ sont les amplitudes selon les directions x et y\n",
    "- $\\Delta\\phi$ est le déphasage de l'onde entre les directions x et y\n",
    "\n",
    "\n",
    "On détermine alors la **polarisation** de l'onde par la valeur de $\\Delta\\phi$ qui peut être : \n",
    "- rectiligne uniforme si $\\Delta\\phi = 0[2\\pi]$\n",
    "- circulaire si $\\Delta\\phi = \\frac{\\pi}{2}[2\\pi]$\n",
    "- elliptique si $\\Delta\\phi$ est quelconque\n"
   ]
  },
  {
   "cell_type": "markdown",
   "id": "b8d1beaa",
   "metadata": {},
   "source": [
    "## II \\ Polariseurs, analyseurs et Loi de Malus"
   ]
  },
  {
   "cell_type": "markdown",
   "id": "d9ea15ed",
   "metadata": {},
   "source": [
    "Un **polariseur** est un matériau ne laissant passer que certaine direction du champ électrique. Ainsi, il permet \"d'orienter\" le champ de faisceau lumineux. En sorti, on retrouve $\\vec{E} = E_0cos(\\alpha)\\vec{u_1}$ \n",
    "\n",
    "où :\n",
    "- $\\vec{u_1}$ est la direction du polariseur.\n",
    "- $\\alpha$ est l'angle entre la direction du polariseur et l'incidence du faisceau\n",
    "- $E_0$ est l'amplitude du champ\n",
    "\n",
    "Un **analyseur** est un second matériau polarisant rectilignement une onde lumineuse de polarisation quelconque que l'on place derrière le premier. On peut alors, via la Loi de Malus, déterminer l'orientation du premier polariseur. \n",
    "\n",
    "En effet, on a $I = I_0cos^2\\theta$\n",
    "\n",
    "où :\n",
    "- $I$ est l'intensité en sorti de l'analyseur\n",
    "- $I_0$ l'intensité entre les deux matériaux \n",
    "- $\\theta$ l'angle entre la direction du polariseur et celle de l'analyseur.\n",
    "\n",
    "Ainsi, si l'intensité de sorti est maximale, on sait que $\\theta = 0[\\pi]$."
   ]
  },
  {
   "cell_type": "markdown",
   "id": "f0214227",
   "metadata": {},
   "source": [
    "## III \\ Les lames à retard"
   ]
  },
  {
   "cell_type": "markdown",
   "id": "2ed0528f",
   "metadata": {},
   "source": [
    "Les lames à retard sont des matériaux pour lesquelles l'indice de réfraction est différent pour deux directions d'onde. Ainsi, ces lames affectent les ondes lumineuses de manière différenciée selon leur polarisation.\n",
    "On retrouve les mêmes coordonnées que dans I\\ pour le champs électrique mais avec un $\\Delta\\phi$ différent : \n",
    "\n",
    "$$\\vec{E} = \\begin{pmatrix}\n",
    "E_{0x}cos(kz-wt)\\\\\n",
    "E_{0y}cos(kz-wt+\\Delta\\phi) \\\\\n",
    "0\n",
    "\\end{pmatrix}\n",
    "$$\n",
    "avec \n",
    "$$\\Delta\\phi = 2\\pi\\frac{e\\Delta n}{\\lambda}$$\n",
    "\n",
    "où : \n",
    "- $k$ est la norme du vecteur d'onde\n",
    "- $z$ la coordonnée spatial de l'onde\n",
    "- $w$ la pulsation de l'onde\n",
    "- $t$ la coordonnée temporelle\n",
    "- $E_{0,x}$ et $E_{0,y}$ les intensités selon x et y du champs\n",
    "- $\\lambda$ la longueur d'onde de l'onde monochormatique\n",
    "- $\\Delta n $ la différence entre les deux indices de réfraction\n",
    "\n",
    "On retrouve donc un déphasage entre les composantes du champs éléctrique."
   ]
  },
  {
   "cell_type": "markdown",
   "id": "8f06c1fd",
   "metadata": {},
   "source": [
    "## IV \\ Lames demi-ondes et quart d'onde"
   ]
  },
  {
   "cell_type": "markdown",
   "id": "aa38f551",
   "metadata": {},
   "source": [
    "**1 - Lame demi-onde**\n",
    "\n",
    "Une lame demi onde est telle que $\\Delta\\phi = \\pi[2\\pi]$\n",
    "\n",
    "Ainsi, une telle lame provoque sur une onde de polarisation rectiligne et d'angle $\\alpha$ avec un axe quelconque en une autre onde de polarisation rectiligne d'angle $-\\alpha$."
   ]
  },
  {
   "cell_type": "markdown",
   "id": "6ee68518",
   "metadata": {},
   "source": [
    "2 - Lame quart d'onde\n",
    "\n",
    "Une lame quart d'onde est telle que $\\Delta\\phi = \\frac{\\pi}{2}[2\\pi]$\n",
    "\n",
    "Ainsi, une telle lame transforme une onde de polarisation rectiligne et d'angle $\\alpha$ en une onde de polarisation elliptique"
   ]
  },
  {
   "cell_type": "markdown",
   "id": "0376a216",
   "metadata": {},
   "source": [
    "## V \\ Angle de Brewster"
   ]
  },
  {
   "cell_type": "markdown",
   "id": "c1ea75dd",
   "metadata": {},
   "source": [
    "Lorsqu'un faisceau lumineu rencontre un dioptre quelconque, nous pouvons via les lois de Snell-Descartes connaître les angles d'incidence et de réfraction mais qu'en est-il de la répartition de l'énergie dans ces faisceaux. Ceci dépendent de la direction de polarisation.\n",
    "On peut ainsi, en distinguant pour les ondes incidentes, reflechies et transmises les composantes parrallèles et perpendiculaire au plan d'incidence, retrouver les relations de Fresnel donnant les coefficient de réflexion et transmission en fonction de l'angle d'incidence $i_1$ et de l'angle réfracté $i_2$: \n",
    "\n",
    "$$r_{perpendiculaire} = \\frac{n_1cos(i_1) - n_2cos(i_2)}{n_1cos(i_1)+n_2cos(i_2)}$$\n",
    "et\n",
    "$$r_{parrallèle} = \\frac{n_1cos(i_2) - n_2cos(i_1)}{n_1cos(i_2) + n_2cos(i_1)}$$\n",
    "et\n",
    "$$t_{perpendiculaire} = \\frac{2n_1cos(i_1)}{n_1cos(i_1) + n_2cos(i_2)}$$\n",
    "et\n",
    "$$t_{parrallèle} = \\frac{2n_1cos(i_1)}{n_1cos(i_2) + n_2cos(i_1)}$$\n",
    "\n",
    "On peut de la même manière définir les coefficients de réflexion et transmission en intensité réspéctivement R et T tels que : \n",
    "$R = \\frac{\\Phi_r}{Phi_i}$ et $T = \\frac{\\Phi_t}{\\Phi_t}$\n",
    "\n",
    "En séparanty alors les composantes parrallèles et perpendiculaires de ces coefficient, on remarque qu'il existe un angle d'incidence $i_B$ pour laquelle l'intensité réfléchie parrallèlement est nulle. On appelle cet angle, angle de Brewster que l'on définit mathématiquement ainsi : $$tan(i_B) = \\frac{n_2}{n_1}$$\n",
    "\n",
    "Dans cette configuration l'onde réfléchie est totalement polarisée réctilignement dans la direction perpendiculaire au plan d'incidence."
   ]
  },
  {
   "cell_type": "markdown",
   "id": "6c1a86bb",
   "metadata": {},
   "source": [
    "## VI \\ Manipulations"
   ]
  },
  {
   "cell_type": "markdown",
   "id": "db5adbda",
   "metadata": {},
   "source": [
    "Durant ce TP, notre objectif sera dans un premier temps de manipuler le système optique polariseur/analyseur et vérifier ainsi la loi de Malus.\n",
    "\n",
    "Nous changerons ensuite de matériel pour se familiariser avec les lames biréfringentes, et ainsi, vérifier par observation le bon fonctionnement de la théorie sur ces outils.\n",
    "\n",
    "Nous chercherons ensuite à déterminer l'angle de Brewster lors d'une réflexion vitreuse ce qui revient à étudier la polarisation par réflexion lors d'un changement radicale d'indice optique\n",
    "\n",
    "Enfin, nous étudierons la polarisation par diffusion en prenant pour modèle le soleil couchant."
   ]
  },
  {
   "cell_type": "markdown",
   "id": "e4843fa3",
   "metadata": {},
   "source": [
    "Le matériel à notre disposition se compose  de : \n",
    "- Un banc optique de 1m\n",
    "- Un laser HeNe rouge à $\\lambda = 633$nm\n",
    "- Deux polariseurs polaroïdes (étalonnés ou non)\n",
    "- Une photodiode avec son alimentation\n",
    "- Divers cables\n",
    "- Un écran\n",
    "- Une lame demi-onde à $\\lambda = 633$ nm\n",
    "- Une lame quart d'onde à $\\lambda = 633$ nm\n",
    "- Une lame de verre à faces parrallèles\n",
    "\n",
    "On prendra pour incertitude du multi-mètre 1% de la valeur lue car il s'agit de celle donnée par le fabriquant sur le mode d'emploi trouvé en ligne."
   ]
  },
  {
   "cell_type": "markdown",
   "id": "6514eba0",
   "metadata": {},
   "source": [
    "#### 6.1 \\ Polarisation linéaire par dichroïsme"
   ]
  },
  {
   "cell_type": "markdown",
   "id": "e849af42",
   "metadata": {},
   "source": [
    "On remarque en plaçant un simple polariseur devant le laser que selon l'orientation de ce polariseur, nous sommes en capacité d'obtenir une intensité nulle en sortie. On en déduit ainsi, que le laser est déjà polarisée rectilignement et que l'intensité est nulle lorsque la direction du polariseur est perpendiculaire à la polarisation du laser. \n",
    "\n",
    "Le polariseur nous sert donc directement d'analyseur.\n",
    "\n",
    "Pour analyser la polarisation par dichroïsme, Nous plaçons sur le banc optique le laser $\\lambda = 633$nm de sorte que le faisceau passe par le polariseur, puis rencontre la photodiode, elle même reliée à une alimentation et un multimètre.\n",
    "Nous saurons ainsi, que lorsque la tension est maximale aux bornes de la diode, l'intensité lumineuse l'est aussi, et on pourra en déduire l'orientation de polarisation du laser.\n",
    "\n",
    "On définit la tension nulle lorsque l'angle est droit. C'est à dire : $$U = 0 \\rightarrow \\alpha = \\frac{\\pi}{2}[2\\pi]$$\n",
    "\n",
    "Voir figure n°1"
   ]
  },
  {
   "cell_type": "code",
   "execution_count": 57,
   "id": "70064a9e",
   "metadata": {
    "id": "70064a9e"
   },
   "outputs": [],
   "source": [
    "# Importation des bibliotheques\n",
    "\n",
    "# permet d'implémenter des erreurs rapidement dans des array et d'obtenir automatiquement la propagataion des erreur\n",
    "import qexpy as q \n",
    "# permet de créer un graphe de nos données et du fit\n",
    "import qexpy.plotting as qplt \n",
    "\n",
    "import numpy as np"
   ]
  },
  {
   "cell_type": "code",
   "execution_count": 58,
   "id": "88e0545c",
   "metadata": {},
   "outputs": [
    {
     "data": {
      "image/png": "[encoded data removed]",
      "text/plain": [
       "<Figure size 460.8x345.6 with 1 Axes>"
      ]
     },
     "metadata": {
      "needs_background": "light"
     },
     "output_type": "display_data"
    }
   ],
   "source": [
    "# Création de liste de tension mésurée\n",
    "U = np.array([0.0002, 0.0085, 0.0301, 0.064, 0.1055, 0.1828, 0.340, 0.370, 0.352, 0.310, 0.148, 0.061, 0.0089, 0.0003])/0.370\n",
    "# Création de la valeur d'erreur sur U\n",
    "U_error = U/100\n",
    "# Création de liste d'angle d'incidence\n",
    "alpha_degre = np.array([90, 100, 110, 120, 130, 140, 160, 180, 190, 200, 220, 240, 260, 270])\n",
    "alpha = alpha_degre*2*np.pi/360\n",
    "# Création de la valeur d'erreur sur alpha\n",
    "alpha_error = 2*np.pi/360\n",
    "a = np.linspace(np.pi/2, 3*np.pi/2, 100)\n",
    "def f(a, x):\n",
    "    return a*np.cos(x)**2\n",
    "\n",
    "\n",
    "# Création d'un array contenant les valeurs de tension U, les erreurs associées sur chaque mesure, l'unité et le nom de la grandeur\n",
    "q_U = q.MeasurementArray(U, error = U_error, unit = \"V\", name = \"Tension\")\n",
    "# Création d'un array contenant les valeurs d'angle alpha, les erreurs associées sur chaque mesure, l'unité et le nom de la grandeur\n",
    "q_alpha = q.MeasurementArray(alpha, error = alpha_error, unit = \"rad\", name = \"Angle d'incidence\")\n",
    "\n",
    "# Création d'un graphe de U selon alpha\n",
    "fig1 = qplt.plot(q_alpha, q_U, residuals=True) \n",
    "#fig2 = qplt.plot(a, np.cos(a)**2, color = 'r')\n",
    "# Création et calcul du fit de nos données précédentes\n",
    "#result = fig.fit(model=a*np.cos(alpha)**2, parguess = [1])\n",
    "\n",
    "# Création du titre du graphe\n",
    "figure = qplt.get_plot()\n",
    "figure.title = 'Graphe de la tension U selon l\\'angle d\\'incidence alpha'\n",
    "\n",
    "# Affichage du graphe et du fit\n",
    "figure.show()\n",
    "\n",
    "#print(result)"
   ]
  },
  {
   "cell_type": "markdown",
   "id": "f6737058",
   "metadata": {},
   "source": [
    "**Conclusion**\n",
    "\n",
    "On remarque sur le graphe que la courbe de la tension en sortie selon l'angle $\\alpha$ entre la direction du polariseur et la direction d'incidence est sinusoïdale. Ceci est en accord avec la théorie. \n",
    "\n",
    "En effet, nous savons que dans le cas d'une photodiode, la tension en sortie est proportionnelle à l'intensité lumineuse reçu. De plus, la loi de Malus nous donne l'intensité de sortie du polariseur en fonction de $\\alpha$ et de l'intensité du LASER $I_0$ de telle sorte que :   $I = I_0cos^2(\\alpha)$\n",
    "\n",
    "Ainsi, on retrouve : $$U(\\alpha) = AI_0cos^2(\\alpha)$$\n",
    "où : \n",
    "- U est la tension observée aux bornes de la photodiode\n",
    "- A est le coefficient représentant $I_0$ multiplié par le coefficient de proportionnalité reliant la luminosité à la tension\n",
    "- $\\alpha$ est l'angle entre la direction du polariseur et l'incidence du rayon.\n",
    "\n",
    "La loi de Malus est donc vérifiée. \n",
    "\n",
    "Il est important de noter qu'il suffit de prendre compte de l'équivalent de 180° pour $\\alpha$ car U est $\\pi$ périodique."
   ]
  },
  {
   "cell_type": "markdown",
   "id": "9e18e1af",
   "metadata": {},
   "source": [
    "#### 6.2 \\ Polarisation par lames biréfringentes"
   ]
  },
  {
   "cell_type": "markdown",
   "id": "cec21fb0",
   "metadata": {},
   "source": [
    "Dans le cadre de notre expérience sur ce type de polarisation, nous gardons la même disposition sur le banc optique que l'étude précédente, en rajoutant une lame biréfringente entre les deux polariseurs positionnés en position croisés.\n",
    "\n",
    "Voir figure n°2"
   ]
  },
  {
   "cell_type": "markdown",
   "id": "64654fc5",
   "metadata": {},
   "source": [
    "**Pour la lame demi-onde**\n",
    "\n",
    "Pour trouver les lignes neutres de la lame, il nous suffit de changer l'orientation de celle-ci. Quand l'intensité lumineuse en sortie de l'analyseur est nulle, alors la lame n'a aucun effet. Le faisceau est donc dans la direction d'une ligne neutre. Sur un angle de 180°, il y a deux positions pour lesquels l'intensité de sortie est nulle. Dans le cas de notre lame, on trouve : \n",
    "\n",
    "- $\\theta_1 = 92°$\n",
    "- $\\theta_2 = 1°$\n",
    "\n",
    "où $\\theta$ est l'angle entre la direction du polariseur et celle de la lame.\n",
    "\n",
    "On cherche à montrer que en sortie de la lame, la polarisation est rectiligne. Pour cela on opère une rotation d'un angle $\\theta$ de la lame. On a donc une intensité non nulle en sortie de l'analyseur. Or en tournant l'analyseur d'un certrain angle $\\phi$ on retrouve une intensité nulle sur l'écran. On sait donc que la direction de polarisation en sorti de la lame est orthogonale à la direction de l'analyseur. On en déduit ainsi, que quelque soit la position de la lame, l'onde de sorti est polarisée rectilignement."
   ]
  },
  {
   "cell_type": "code",
   "execution_count": 59,
   "id": "caf3d880",
   "metadata": {},
   "outputs": [
    {
     "data": {
      "image/png": "[encoded data removed]",
      "text/plain": [
       "<Figure size 460.8x345.6 with 1 Axes>"
      ]
     },
     "metadata": {
      "needs_background": "light"
     },
     "output_type": "display_data"
    },
    {
     "name": "stdout",
     "output_type": "stream",
     "text": [
      "----------------- Fit Results -------------------\n",
      "Fit of XY Dataset to linear\n",
      "\n",
      "Result Parameter List: \n",
      "slope = 1.91 +/- 0.03,\n",
      "intercept = 64 +/- 2\n",
      "\n",
      "Correlation Matrix: \n",
      "[[ 1.   -0.84]\n",
      " [-0.84  1.  ]]\n",
      "\n",
      "chi2/ndof = 239225.39/6\n",
      "\n",
      "--------------- End Fit Results -----------------\n"
     ]
    }
   ],
   "source": [
    "alpha = [65,120,186,233,293,90,150,208,265]\n",
    "alpha_error = 2*np.pi/360\n",
    "theta = [0,30,60,90,120,15,45,75,105]\n",
    "theta_error = 2*np.pi/360\n",
    "\n",
    "# Création d'un array contenant les valeurs de tension U, les erreurs associées sur chaque mesure, l'unité et le nom de la grandeur\n",
    "q_alpha = q.MeasurementArray(alpha, error = alpha_error, unit = \"rad\", name = \"angle entre (P) et (A)\")\n",
    "# Création d'un array contenant les valeurs d'angle alpha, les erreurs associées sur chaque mesure, l'unité et le nom de la grandeur\n",
    "q_theta = q.MeasurementArray(theta, error = theta_error, unit = \"rad\", name = \"Angle entre (P) et (L)\")\n",
    "\n",
    "# Création d'un graphe de U selon alpha\n",
    "fig = qplt.plot(q_theta, q_alpha, residuals=True) \n",
    "\n",
    "result = fig.fit(model=q.FitModel.LINEAR, parguess = [2, 0])\n",
    "\n",
    "# Création du titre du graphe\n",
    "figure = qplt.get_plot()\n",
    "figure.title = 'Graphe de alpha selon theta'\n",
    "\n",
    "# Affichage du graphe et du fit\n",
    "figure.show()\n",
    "print(result)"
   ]
  },
  {
   "cell_type": "markdown",
   "id": "8a698bb1",
   "metadata": {},
   "source": [
    "On trouve que $\\alpha$ varie linéairement avec $\\theta$ tel que $\\frac{\\alpha}{\\theta} = 2$, donnant l'equation suivante : $$\\theta (\\alpha) = 2\\alpha$$\n",
    "\n",
    "Une lame demi-onde permet d'onde de définir la direction de polarisation rectiligne d'une onde."
   ]
  },
  {
   "cell_type": "markdown",
   "id": "3206b2e7",
   "metadata": {},
   "source": [
    "**Pour la lame quart d'onde**\n",
    "     On cherche les axe neutres de la lame quart d'onde.POur ce faire place la lame entre un  polariseur et un analyseur en position croisé.On fait tourner la lame pour trouver les angles $\\theta$ tel que notre lame ne change pas la polarisation de la lumière soit quand l'intensité est nulle après l'analyseur. On trouve deux valeur pour $\\theta$ entre 0 et 180° un à 0° et l'autre à 90.  \n"
   ]
  },
  {
   "cell_type": "code",
   "execution_count": 60,
   "id": "17618793",
   "metadata": {},
   "outputs": [
    {
     "data": {
      "image/png": "[encoded data removed]",
      "text/plain": [
       "<Figure size 460.8x345.6 with 1 Axes>"
      ]
     },
     "metadata": {
      "needs_background": "light"
     },
     "output_type": "display_data"
    }
   ],
   "source": [
    "theta = np.array([0,10,20,30,40,50,60,70,80,90,100,110,120,130,140,150,160,170,180])\n",
    "theta_rad=theta*2*np.pi/360\n",
    "theta_error = 2*np.pi/360\n",
    "U = np.array([0.1646,0.1604,0.1529,0.1452,0.1366,0.1416,0.1306,0.1301,0.1362,0.1462,0.1505,0.1485,0.163,0.1632,0.163,0.1586,0.1629,0.1598,0.1572])\n",
    "u_error=U/100\n",
    "\n",
    "# Création d'un array contenant les valeurs de tension U, les erreurs associées sur chaque mesure, l'unité et le nom de la grandeur\n",
    "q_theta = q.MeasurementArray(theta_rad, error = alpha_error, unit = \"rad\", name = \"angle entre le Polariseur et la Lame\")\n",
    "# Création d'un array contenant les valeurs d'angle alpha, les erreurs associées sur chaque mesure, l'unité et le nom de la grandeur\n",
    "q_U = q.MeasurementArray(U, error = u_error, unit = \"Volt\", name = \"Tension\")\n",
    "\n",
    "# Création d'un graphe de U selon alpha\n",
    "fig = qplt.plot(q_theta,q_U, residuals=True) \n",
    "\n",
    "#result = fig.fit(model=q.FitModel.LINEAR, parguess = [2, 0])\n",
    "\n",
    "# Création du titre du graphe\n",
    "figure = qplt.get_plot()\n",
    "figure.title = 'Graphe de la tension selon theta'\n",
    "\n",
    "# Affichage du graphe et du fit\n",
    "figure.show()\n"
   ]
  },
  {
   "cell_type": "markdown",
   "id": "4efeca4e",
   "metadata": {},
   "source": [
    "On observe que la tension varie de manière sinusoïdale en fonction de $\\alpha$. L'intensité maximale et minimale étant constance, on en déduit donc que la polarisation de sortie est circulaire, ce qu'on attendait avec une lame quart d'onde avec un angle d'incidence de 45°."
   ]
  },
  {
   "cell_type": "markdown",
   "id": "af93ffa0",
   "metadata": {},
   "source": [
    "#### 6.3 \\ Polarisation par réfléxion vitreuse : Meusure de l'angle de Brewster"
   ]
  },
  {
   "cell_type": "markdown",
   "id": "9f5748e7",
   "metadata": {},
   "source": [
    "Durant cette partie on cherche à determiner l'angle de Brewster dans le plan d'incidence(plan contenant le faisceau et la normale au dioptre). Pour se faire nous plaçons une lame $\\frac{\\lambda}{2}$ en position $\\alpha=45°$. En effet, nous avons dans la partie dédiée à l'étude des lames demi-ondes que le déphasage de sortie est deux fois supérieur à l'angle entre le polariseur et la lame. Le Laser étant polarisé rectilignement à 0° (angle relatif), en plaçant la lame sur 45°, on obtient en sorti une onde polarisée à 90° selon le plan du sol, soit patrrallèles au plan d'incidence.\n",
    "\n",
    "Lorsque l'angle d'incidence varie, on observe une variation de l'intensité de l'intensité lumineuse du rayon incident. Par la manipulation, on cherche alors l'angle selon lequel l'intensité est nul, soit **l'angle de Brewster**. Ainsi, en évaluant cet angle à l'oeil nu, on en déduit $$i_B = 57,25 \\pm 3 °$$\n",
    "\n",
    "J'estime l'incertitude de cette mesure à 3° car malgré la grossiereté de cette mesure, il est plutot facile d'observer au degré près l'angle pour lequel l'intensité est minimale, et j'y ajoute l'incertitude lié à ma lecture de l'angle sur le banc optique, facilitée par les graduations.\n",
    "\n",
    "Voir figure n°3"
   ]
  },
  {
   "cell_type": "code",
   "execution_count": 61,
   "id": "cca878a1",
   "metadata": {},
   "outputs": [
    {
     "name": "stdout",
     "output_type": "stream",
     "text": [
      "1.6 +/- 0.2\n"
     ]
    }
   ],
   "source": [
    "i = 57.25*2*np.pi/360\n",
    "i_error = 3*2*np.pi/360\n",
    "q_i = q.Measurement(i, error=i_error)\n",
    "n_2 = q.tan(q_i)\n",
    "print(n_2)"
   ]
  },
  {
   "cell_type": "markdown",
   "id": "55aee5a7",
   "metadata": {},
   "source": [
    "Avec notre mesure de $i_B = 57,25 \\pm 3 °$, on trouve comme indice de réfraction du verre $n_2=1.6\\pm 0.2$"
   ]
  },
  {
   "cell_type": "markdown",
   "id": "ff06cc4a",
   "metadata": {},
   "source": [
    "## VII \\ Conclusion"
   ]
  },
  {
   "cell_type": "markdown",
   "id": "ee8113be",
   "metadata": {},
   "source": [
    "Nous avons vu qu'il existe de nombreux moyen de polariser la lumière de façon expérimentale et naturelle. En effet, les polaroïdes permettent de polariser rectilignement la lumière, ou encore de s'assurer que la polarisation actuelle est belle et bien rectiligne. Les lames quant-à elles sont légrement plus complexes d'utilisation. En effet, celles-ci permettent dans un cas d'établir la polarisation rectiligne dans un plan souhaité, tandis que l'autre permet de d'obtenir une polarisation elliptique ou circulaire à partir d'une rectiligne. Enfin, nous avons pu montrer l'existence de l'angle de Brewster et ainsi mettre en evidence la polarisation par reflexion vitreuse."
   ]
  }
 ],
 "metadata": {
  "colab": {
   "provenance": []
  },
  "kernelspec": {
   "display_name": "Python 3 (ipykernel)",
   "language": "python",
   "name": "python3"
  },
  "language_info": {
   "codemirror_mode": {
    "name": "ipython",
    "version": 3
   },
   "file_extension": ".py",
   "mimetype": "text/x-python",
   "name": "python",
   "nbconvert_exporter": "python",
   "pygments_lexer": "ipython3",
   "version": "3.11.4"
  }
 },
 "nbformat": 4,
 "nbformat_minor": 5
}
