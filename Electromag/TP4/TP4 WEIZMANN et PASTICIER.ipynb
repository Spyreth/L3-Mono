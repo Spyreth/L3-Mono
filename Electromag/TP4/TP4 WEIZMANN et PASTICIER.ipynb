{
 "cells": [
  {
   "cell_type": "markdown",
   "id": "de1d72ca",
   "metadata": {},
   "source": [
    "<span style=\"font-size: 18px; font-weight: bold\">PASTICIER Benjamin</span><br>\n",
    "<span style=\"font-size: 18px; font-weight: bold\">WEIZMANN Allan</span><br>\n",
    "<br><br>\n",
    "\n",
    "<center><span style=\"font-size: 40px; font-weight: bold\">LU3PY121 - Electromagntésime et Optique</span></center><br>\n",
    "<center><span style=\"font-size: 35px; font-weight: bold\">TP4 - Spectroscopie</span></center>\n",
    "<br><br><br><br>"
   ]
  },
  {
   "cell_type": "markdown",
   "id": "37b4f43c",
   "metadata": {},
   "source": [
    "<span style=\"font-size: 30px; font-weight: bold\">Introduction</span> <a class=\"anchor\" id=\"Sec1\"></a>"
   ]
  },
  {
   "cell_type": "markdown",
   "id": "71844b0e",
   "metadata": {},
   "source": [
    "Lors de ce TP, nous allons analyser l'interférogramme de plusieurs sources lumineuses :\n",
    "- Raie verte du mercure\n",
    "- Doublet jaune du Mercure\n",
    "- Lumière blanche\n",
    "- Lumière blanche filtrée avec un filtre interférentiel vert\n",
    "- Lumière Blanche filtrée avec un filtre à gélatine vert.\n",
    "\n",
    "L'enseignant fait les manipulations et nous distribue ensuite les interférogrammes, dont l'analyse nous permettre de déduire plusieurs propriétés des spectres de chaque source lumineuse."
   ]
  },
  {
   "cell_type": "markdown",
   "id": "607b3c54",
   "metadata": {},
   "source": [
    "<br><br><br>\n",
    "<span style=\"font-size: 30px; font-weight: bold\">Lampe à vapeur de mercure</span> <a class=\"anchor\" id=\"Sec2\"></a>\n",
    "\n",
    "Nous allons commencer par analyser l'interférogramme et le spectre de la lampe à vapeur de mercure. Lorsqu'on observe son spectre au spectroscope, on peut voir plusieurs raies, dont un doublet dans le jaune et une raie dans le vert. En plaçant un filtre interférentiel vert ou jaune, on pourra observer uniquement le doublet ou la raie verte.\n",
    "\n",
    "<br>\n",
    "\n",
    "<span style=\"font-size: 20px; font-weight: bold\">Raie verte</span>\n",
    "\n",
    "Avec le filtre interférentiel vert le spectroscope nous donne la longueur d'onde associée à la raie verte: $\\lambda_{vert} = 546,1 nm$.\n",
    "\n",
    "L'interférogramme qui nous est fourni pour la lumière à vapeur de mercure avec filtre interférentiel vert à l'allure d'une sinusoïdale d'amplitude constante. On sait que la longueur d'onde de cette courbe est reliée à la longueur d'onde moyenne du spectre et donc théoriquement ici à la longueur d'onde associée à la raie verte : $\\lambda_{vert} = 546,1 nm$. On calcule alors la longueur d'onde associée à notre interférogramme via:\n",
    "\n",
    "$$ \\lambda = \\frac{D2 - D1}{nb_{pics}} $$\n",
    "\n",
    "Avec $D1$ et $D2$ les déplacements du miroir en mm pour deux pics d'onde et $nb_{pics}$ le nombre de périodes entre ces deux pics. On prend des pics les plus éloignés possible pour avoir une valeur la plus précise possible, et on trouve alors :\n",
    "\n",
    "$$ \\lambda = \\frac{0.0262 - 0.008}{92}\\cdot 10^-3 nm = 276 \\pm 7nm $$\n",
    "\n",
    "Ici, $\\delta_{\\lambda} = \\frac{2\\delta_D}{nb_{pics}}$ et on prend $\\delta_D = 0.0003 mm$\n",
    "\n",
    "On remarque que cette valeur est la moitié de la longueur d'onde attendue, qu'on avait trouvée via le spectromètre. Cela est dû au fait que notre interférogramme est en fonction du déplacement du miroir et non de la différence de marche. En effet, les rayons lumineux font un aller-retour en passant par le miroir, et leur différence de marche est donc le double de l'épaisseur de la lame d'air de l'interféromètre de Michelson, et cette différence varie avec le double du déplacement du miroir.\n",
    "\n",
    "L'interférogramme réel $I(\\delta)$ est donc l'interférogramme donné $I_{brut}(D)$ dont l'abscisse est multipliée par 2.\n",
    "\n",
    "Si on avait eu un interférogramme en fonction du temps, on aurait pu retrouver l'interférogramme en fonction de la distance de déplacement en calculant la vitesse $v$ de déplacement du miroir, et on aurait à nouveau retrouvé l'interférogramme en fonction de la différence de marche en multipliant l'abscisse par 2.\n",
    "\n",
    "<br>\n",
    "\n",
    "<span style=\"font-size: 20px; font-weight: bold\">Doublet jaune</span>\n",
    "\n",
    "Avec le filtre interférentiel jaune, on observe au spectroscope deux pics d'amplitude pour $\\lambda_1 = 578.1nm$ et $\\lambda_2 = 580.1 nm$.\n",
    "\n",
    "L'interférogramme fourni par le professeur (qui est toujours en fonction du déplacement du miroir) montre alors une fonction qui est la somme de deux fonction sinusoïdales de périodes différentes : cela donne une fonction sinusoïdale avec des battements.\n",
    "\n",
    "L'enveloppe de cette fonction est une fonction sinusoïdale avec une grande période, qui présente des noeuds où $I(D) \\approx 0$. Cependant, I ne s'annule pas complètement lorsqu'on se trouve au niveau des noeuds de l'enveloppe, les deux raies jaunes n'ont donc pas la même intensité lumineuse.\n",
    "\n",
    "On calcule maintenant $\\lambda_m$ en utilisant la même formule que précédemment : la longueur d'onde moyenne associée aux deux raies est égale à la pseudo-période de notre interférogramme (on n'oublie pas de multiplier les abscisses par 2 étant donné qu'on a ici un interférogramme en fonction du déplacement du miroir) :\n",
    "\n",
    "$$ \\lambda_m = \\frac{2(D2 - D1)}{nb_{pics}} = \\frac{2(0.1100 - 0.0275)}{285}\\cdot 10^-3 nm = 579\\pm 3nm$$\n",
    "\n",
    "On calcule ensuite $\\Delta \\lambda$ l'écart entre les deux raies jaunes via la formule suivante :\n",
    "\n",
    "$$\\Delta \\lambda = \\frac{\\lambda_m ^2}{L_c}$$\n",
    "\n",
    "Où $L_c$ est la longueur de cohérence, qu'on peut mesurer via l'interférogramme en regardant la distance entre deux noeuds de l'enveloppe. On trouve alors $L_c = 0.158\\pm 0.012mm$ et\n",
    "\n",
    "$$\\Delta \\lambda = \\frac{579 ^2}{1.58\\cdot 10^5} = 2.12nm$$\n",
    "\n",
    "Et on obtien l'incertitude sur $\\Delta \\lambda$ avec (en prenant $\\delta(diffmarche) = 0.0003mm$):\n",
    "\n",
    "$$\\delta \\Delta \\lambda = \\Delta \\lambda \\sqrt{(\\frac{\\delta(diffmarche)}{diffmarche})^2+(\\frac{\\delta \\lambda_m}{\\lambda_m})^2} = 0.08nm$$\n",
    "\n",
    "On nous donne la valeur tabulée $\\Delta \\lambda = 2.1nm$, notre encadrement comprend donc cette valeur et on pire dire que notre mesure est assez précise. Si on suppose connue $\\lambda$, notre formule pour $\\delta \\Delta \\lambda$ ne prend plus en compte l'erreur $\\delta \\lambda$ et on trouve :\n",
    "\n",
    "$$\\delta \\Delta \\lambda = \\Delta \\lambda \\frac{\\delta(diffmarche)}{diffmarche} = 0.08nm$$\n",
    "\n",
    "L'incertitude dominante dans notre formule est donc l'incertitude sur la différence de marche, et on obtient la même incertitude sur $\\Delta \\lambda$. En regardant sur le spectroscope à réseau, on trouve les valeurs suivantes : $\\lambda_1 = 578.1nm$ ; $\\lambda_2 = 580.2 nm$ ; $\\Delta \\lambda = 2.1 nm$ ; $\\lambda_m = 579.1 nm$. Les valeurs qu'on a trouvé sont donc toutes cohérentes avec les valeurs observées expérimentalement et on peut dire que nos mesures sont précises.\n",
    "\n",
    "\n",
    "<br><br><br>\n",
    "\n"
   ]
  },
  {
   "cell_type": "markdown",
   "id": "60abc319",
   "metadata": {},
   "source": [
    "<span style=\"font-size: 30px; font-weight: bold\">Etude de la lumière blanche</span> <a class=\"anchor\" id=\"Sec3\"></a>\n",
    "\n",
    "Désormais, on passe à l'analyse de l'interférogramme d'une lumière blanche. A l'aide du spectromètre fibré nous avons pu observer le specte de la lampe blanche à disposition. Nous avons ensuite ajouté un filtre interférentiel vert, ce qui nous a donné un spectre décrivant une gaussienne dans les longueurs d'ondes du vert. Lorsqu'on rajoute un filtre à gélatine, on observe également une gaussiene dans les longueurs d'onde associées au vert, ainsi qu'un peu de lumière rouge.\n",
    "\n",
    "Pour faire une estimation de la bande passante pour chacun des filtres, on prend l'encadrement de la gaussienne à mi-hauteur et on trouve :\n",
    "- filtre interférentiel vert : [524 nm, 577 nm]\n",
    "- filtre gélatineux : [520 nm, 567 nm]\n",
    "\n",
    "<br>\n",
    "\n",
    "<span style=\"font-size: 20px; font-weight: bold\">Lumière blanche avec filtre interférentiel</span>\n",
    "\n",
    "L'interférogramme obtenu ne présente pas de noeuds car le spectre est ici continu. Son enveloppe a une forme gaussienne.\n",
    "On calcule maintenant la longueur d'onde moyenne associée au spectre :\n",
    "\n",
    "$$ \\lambda_m = \\frac{2(D2 - D1)}{nb_{pics}} = \\frac{2(0.0399 - 0.0058)}{127}\\cdot 10^-3 nm = 537\\pm 6nm$$\n",
    "\n",
    "Calculons également $\\Delta \\lambda_v$ via $L_c$ : $\\Delta \\lambda_v = \\frac{\\lambda_m^2}{L_c}$. La longueur de cohérence se mesure sur un interférogramme d'un spectre continue via la largeur à mi-hauteur. On a ici : $L_c = 0.0190 \\pm 0.0008 mm$. On peut alors calculer $\\Delta \\lambda_v$:\n",
    "\n",
    "$$\\Delta \\lambda_v = \\frac{\\lambda_m ^2}{L_c} = \\frac{537 ^2}{1.9\\cdot 10^5} nm = 15.0 \\pm 0.7nm$$\n",
    "\n",
    "<br>\n",
    "\n",
    "<span style=\"font-size: 20px; font-weight: bold\">Lumière blanche avec filtre gélatineux</span>\n",
    "\n",
    "Avec l'interférogramme de la lumière passée par le filtre gélatineux, on calcule $\\Delta \\lambda_g$ par la même méthode que pour le filtre interférentiel vert et on obtient les résultats suivants :\n",
    "- $L_c =6960 \\pm 600 nm$\n",
    "- $ \\lambda_m = 583\\pm 6nm$\n",
    "- $\\Delta \\lambda_v = 49 \\pm 4nm$\n",
    "\n",
    "On remarque que le filtre gélatineux a une bande passante plus grande, mais aussi une incertitude relative sur celle-ci plus grande que le filtre à interférences (environ 10% contre environ 5%).\n",
    "\n",
    "<br>\n",
    "\n",
    "<span style=\"font-size: 20px; font-weight: bold\">Lumière blanche sans filtre</span>\n",
    "\n",
    "Pour finir, on fait les mêmes calculs que précédemment, mais cette fois-ci pour la lumière sans filtre :\n",
    "- $L_c =180\\cdot 10^1 \\pm 47\\cdot 10^1 nm$ ; l'erreur sur $L_c$ augmente grandement car l'enveloppe gaussienne est très mal définie\n",
    "- $ \\lambda_m = 544\\pm 67nm$ ; l'erreur sur $lambda_m$ augmente car on a très peu de pics d'onde pour faire le calcul\n",
    "- $\\Delta \\lambda_s = 162 \\pm 46nm$\n",
    "La valeur de $\\Delta \\lambda_s$ est beaucoup plus grande, ce qui paraît cohérent vu qu'on a retiré les filtres. Son incertitude relative est aussi beaucoup plus élevé (environ 25%).\n",
    "\n",
    "Finalement, on trouve une valeur de longueur d'onde moyenne de 544 +- 67 et une largeur de quasiment 200 nm en prenant en compte les incertitudes. Pour une lumière blanche, on s'attendait à avoir eu moins les longueurs entre 400 et 800nm (lumière visible), nos résultats sont donc à peu près cohérents en prenant en compte les incertitudes.\n",
    "\n",
    "\n",
    "<br><br><br>\n",
    "\n"
   ]
  },
  {
   "cell_type": "markdown",
   "id": "3b87f8d0",
   "metadata": {},
   "source": [
    "<span style=\"font-size: 30px; font-weight: bold\">Conclusion</span> <a class=\"anchor\" id=\"Sec5\"></a>"
   ]
  },
  {
   "cell_type": "markdown",
   "id": "79d6efa1",
   "metadata": {},
   "source": [
    "Lors de ce TP, on a pu analyser différents interférogrammes correspondants à des spectres lumineux à raies et continus. Cela nous a permis de relier les caractéristiques de l'interférogrammes comme la pseudo-fréquence et la largeur à mi-hauteur à des caractéristiques du spectre lumineux comme la longueur d'onde moyenne et la longueur de cohérence. On a également pu voir la forme de ces interférogrammes pour des rayonnement simple : spectre à une raie, spectre à deux raies, spectre continu..."
   ]
  }
 ],
 "metadata": {
  "kernelspec": {
   "display_name": "Python 3 (ipykernel)",
   "language": "python",
   "name": "python3"
  },
  "language_info": {
   "codemirror_mode": {
    "name": "ipython",
    "version": 3
   },
   "file_extension": ".py",
   "mimetype": "text/x-python",
   "name": "python",
   "nbconvert_exporter": "python",
   "pygments_lexer": "ipython3",
   "version": "3.11.4"
  }
 },
 "nbformat": 4,
 "nbformat_minor": 5
}
