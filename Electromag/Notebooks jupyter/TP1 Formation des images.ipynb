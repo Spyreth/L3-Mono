{
 "cells": [
  {
   "cell_type": "markdown",
   "metadata": {},
   "source": [
    "# TP1 Formation des images - notebook témoin"
   ]
  },
  {
   "cell_type": "markdown",
   "metadata": {},
   "source": [
    "Les notebook incluent la possibilité d'écrire du texte entre les cellules de code. Pour changer la fonction d'une cellule, cliquer sur le menu déroulant dans la barre d'outils, et choisissez \"Markdown\".\n",
    "\n",
    "**Pour valider une cellule (code ou texte) : Ctlr + Entrée ou Shift + Entrée**\n",
    "\n",
    "**Pour modifier une cellule texte : double clic**\n",
    "\n",
    "Langage Markdown : \n",
    "* #, ## ou ### à mettre en début de cellle pour faire un titre. \n",
    "* Italique : mettre entre *du texte* entre deux étoiles\n",
    "* Gras : idem, avec **une étoile de plus** "
   ]
  },
  {
   "cell_type": "code",
   "execution_count": 1,
   "metadata": {},
   "outputs": [],
   "source": [
    "# Import des packages standards\n",
    "import numpy as np\n",
    "import matplotlib.pyplot as plt\n",
    "from scipy.optimize import curve_fit"
   ]
  },
  {
   "cell_type": "markdown",
   "metadata": {},
   "source": [
    "## Utilisation de la relation de conjugaison d'une lentille"
   ]
  },
  {
   "cell_type": "markdown",
   "metadata": {},
   "source": [
    "Fixer une distance objet-écran $D>4f'$"
   ]
  },
  {
   "cell_type": "markdown",
   "metadata": {},
   "source": [
    "### Données"
   ]
  },
  {
   "cell_type": "code",
   "execution_count": null,
   "metadata": {},
   "outputs": [],
   "source": [
    "# Faites varier la distance D, et mesurer les positions OA et OA' lorsque l'image est nette sur l'écran\n",
    "D = np.array([]) #en m\n",
    "\n",
    "#Attention, veuillez à bien entrer les valeurs ALGÉBRIQUES ici.\n",
    "OA = np.array([]) # en m\n",
    "OAprime = np.array([]) # en m\n",
    "\n",
    "erreurs_OA = np.array([]) # en m\n",
    "erreurs_OAprime = np.array([]) # en m"
   ]
  },
  {
   "cell_type": "markdown",
   "metadata": {},
   "source": [
    "### Calcul de $1/OA$ et $1/OA'$ et des incertitudes associées"
   ]
  },
  {
   "cell_type": "code",
   "execution_count": null,
   "metadata": {},
   "outputs": [],
   "source": [
    "UnsurOA = 1 / OA\n",
    "UnsurOAprime = 1 / OAprime\n",
    "\n",
    "erreurs_UnsurOA = #### A REMPLIR ####\n",
    "erreurs_UnsurOAprime =  #### A REMPLIR ####"
   ]
  },
  {
   "cell_type": "markdown",
   "metadata": {},
   "source": [
    "## Tracer un graphique"
   ]
  },
  {
   "cell_type": "code",
   "execution_count": null,
   "metadata": {},
   "outputs": [],
   "source": [
    "# Pour tracer un graphique SANS barres d'erreur\n",
    "\n",
    "plt.plot(UnsurOA,UnsurOAprime,'o', label=\"données\")\n",
    "\n",
    "plt.xlabel(\"$1/OA$ (en m$^{-1}$)\")\n",
    "plt.ylabel(\"$1/OA'$ (en m$^{-1}$)\")\n",
    "plt.title(\"Vérification de la relation de conjugaison\")\n",
    "plt.legend()\n",
    "plt.grid()"
   ]
  },
  {
   "cell_type": "code",
   "execution_count": null,
   "metadata": {},
   "outputs": [],
   "source": [
    "# Pour tracer un graphique AVEC barres d'erreur\n",
    "# On peut préciser yerr et/ou xerr.\n",
    "\n",
    "plt.errorbar(UnsurOA,UnsurOAprime, yerr=erreurs_UnsurOAprime, xerr=erreurs_UnsurOA, fmt='o', label=\"données+barres d'erreurs\")\n",
    "\n",
    "plt.xlabel(\"$1/OA$ (en m$^{-1}$)\")\n",
    "plt.ylabel(\"$1/OA'$ (en m$^{-1}$)\")\n",
    "plt.title(\"Vérification de la relation de conjugaison avec barres d'erreurs\")\n",
    "plt.legend(loc=2)\n",
    "plt.grid()"
   ]
  },
  {
   "cell_type": "markdown",
   "metadata": {},
   "source": [
    "## Ajuster des données"
   ]
  },
  {
   "cell_type": "markdown",
   "metadata": {},
   "source": [
    "### Le modèle"
   ]
  },
  {
   "cell_type": "code",
   "execution_count": null,
   "metadata": {},
   "outputs": [],
   "source": [
    "# Fonction modèle avec une variable et plusieurs paramètres\n",
    "# Ici on n'a qu'un seul paramètre : f' la distance focale\n",
    "\n",
    "def modele(x,f):\n",
    "    ''' \n",
    "    Ce modèle prend en entrée x représantant UnsurOA \n",
    "    et sort la valeur théorique de UnsurOAprime\n",
    "    '''\n",
    "    return #### A REMPLIR ####\n"
   ]
  },
  {
   "cell_type": "markdown",
   "metadata": {},
   "source": [
    "### Les paramètres initiaux"
   ]
  },
  {
   "cell_type": "code",
   "execution_count": null,
   "metadata": {},
   "outputs": [],
   "source": [
    "f0 = 1 #\n",
    "p0 = np.array([f0]) \n",
    "# p0 est un tableau contenant la valeur initial de tous les paramètres de l'ajustement, ici seul f.\n",
    "# Cette valeur initiale doit être relativement proche de la valeur atendu pour que l'ajustement reussise "
   ]
  },
  {
   "cell_type": "code",
   "execution_count": null,
   "metadata": {},
   "outputs": [],
   "source": [
    "# curve_fit prend en argument : la fonction, les données en x, en y, les paramètres initiaux, et éventuellement les incertitudes\n",
    "\n",
    "optimisation = curve_fit(modele,UnsurOA,UnsurOAprime, sigma=erreurs_UnsurOAprime, p0=p0)\n",
    "# Pour un ajustement sans incertitudes, enlever l'option sigma.\n",
    "\n",
    "\n",
    "# Le résultat contient deux éléments : \n",
    "param = optimisation[0] # les paramètres d'ajustement\n",
    "matrice = optimisation[1] # la matrice de corrélation, dont les coeff diagonaux donnent les incertitudes sur les paramètres"
   ]
  },
  {
   "cell_type": "code",
   "execution_count": null,
   "metadata": {},
   "outputs": [],
   "source": [
    "#Pour tracer les données avec le modèle :\n",
    "f_best = param[0]\n",
    "incer_f_best = np.sqrt(matrice[0,0])\n",
    "\n",
    "print(f\"La focale est : f'= ({f_best:.4} +/- {incer_f_best:.1}) m\")\n",
    "# Cette ligne permet d'afficher de manière jolie le résultat recherché\n",
    "# de la forme :  f' TEXTE {VARIABLE:.NB_CHIFFRE_SIGNICATIF} '\n",
    "\n",
    "plt.errorbar(UnsurOA,UnsurOAprime, yerr=erreurs_UnsurOAprime, xerr=erreurs_UnsurOA, fmt='o', label=\"données+barres d'erreurs\")\n",
    "plt.plot(UnsurOA, modele(UnsurOA, f_best),label=\"Ajustement du modèle\")\n",
    "\n",
    "plt.xlabel(\"$1/OA$ (en m$^{-1}$)\")\n",
    "plt.ylabel(\"$1/OA'$ (en m$^{-1}$)\")\n",
    "plt.title(\"Ajustement de la relation de conjugaison avec barres d'erreurs\")\n",
    "#plt.xlim(0,3) # Pour modifier l'axe des abscisses et ainsi observer l'ordonnée à l'origine\n",
    "plt.legend()\n",
    "plt.grid()"
   ]
  },
  {
   "cell_type": "code",
   "execution_count": null,
   "metadata": {},
   "outputs": [],
   "source": []
  }
 ],
 "metadata": {
  "kernelspec": {
   "display_name": "Python 3",
   "language": "python",
   "name": "python3"
  },
  "language_info": {
   "codemirror_mode": {
    "name": "ipython",
    "version": 3
   },
   "file_extension": ".py",
   "mimetype": "text/x-python",
   "name": "python",
   "nbconvert_exporter": "python",
   "pygments_lexer": "ipython3",
   "version": "3.11.4"
  }
 },
 "nbformat": 4,
 "nbformat_minor": 4
}
