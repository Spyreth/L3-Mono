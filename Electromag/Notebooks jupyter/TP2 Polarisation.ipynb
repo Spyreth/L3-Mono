{
 "cells": [
  {
   "cell_type": "markdown",
   "metadata": {},
   "source": [
    "# TP2 Polarisation - notebook témoin"
   ]
  },
  {
   "cell_type": "markdown",
   "metadata": {},
   "source": [
    "Les notebook incluent la possibilité d'écrire du texte entre les cellules de code. Pour changer la fonction d'une cellule, cliquer sur le menu déroulant dans la barre d'outils, et choisissez \"Markdown\".\n",
    "\n",
    "**Pour valider une cellule (code ou texte) : Ctlr + Entrée ou Shift + Entrée**\n",
    "\n",
    "**Pour modifier une cellule texte : double clic**\n",
    "\n",
    "Langage Markdown : \n",
    "* #, ## ou ### à mettre en début de cellle pour faire un titre. \n",
    "* Italique : mettre entre *du texte* entre deux étoiles\n",
    "* Gras : idem, avec **une étoile de plus** "
   ]
  },
  {
   "cell_type": "code",
   "execution_count": null,
   "metadata": {},
   "outputs": [],
   "source": [
    "# Import des packages standards\n",
    "import numpy as np\n",
    "import matplotlib.pyplot as plt\n",
    "from scipy.optimize import curve_fit"
   ]
  },
  {
   "cell_type": "markdown",
   "metadata": {},
   "source": [
    "## Vérification de la loi de Malus"
   ]
  },
  {
   "cell_type": "markdown",
   "metadata": {},
   "source": [
    "### Données pour la loi de Malus"
   ]
  },
  {
   "cell_type": "code",
   "execution_count": null,
   "metadata": {},
   "outputs": [],
   "source": [
    "# Faites varier l'angle entre polariseur et analyseur, mesurer la tension aux bornes du voltmètre\n",
    "angle = np.array([]) ### A REMPLIR ###\n",
    "tension = np.array([]) ### A REMPLIR ###\n",
    "\n",
    "erreurs_angle = np.array([]) ### A REMPLIR ###\n",
    "erreurs_tension = np.array([]) ### A REMPLIR ###"
   ]
  },
  {
   "cell_type": "markdown",
   "metadata": {},
   "source": [
    "## Tracer un graphique"
   ]
  },
  {
   "cell_type": "code",
   "execution_count": null,
   "metadata": {},
   "outputs": [],
   "source": [
    "# Pour tracer un graphique AVEC barres d'erreur\n",
    "# On peut préciser yerr et/ou xerr.\n",
    "\n",
    "plt.errorbar(angle,tension, yerr=erreurs_tension, xerr=erreurs_angle, fmt='o', label=\"données+barres d'erreurs\")\n",
    "\n",
    "plt.xlabel(\"\") ### A REMPLIR ###\n",
    "plt.ylabel(\"\") ### A REMPLIR ###\n",
    "plt.title(\"\") ### A REMPLIR ###\n",
    "plt.legend(loc=2)\n",
    "plt.grid()"
   ]
  },
  {
   "cell_type": "markdown",
   "metadata": {},
   "source": [
    "## Ajuster des données"
   ]
  },
  {
   "cell_type": "markdown",
   "metadata": {},
   "source": [
    "### Le modèle"
   ]
  },
  {
   "cell_type": "code",
   "execution_count": null,
   "metadata": {},
   "outputs": [],
   "source": [
    "# Fonction modèle avec une variable et plusieurs paramètres\n",
    "# Ici on n'a qu'un seul paramètre : f' la distance focale\n",
    "\n",
    "def modele(x,a,b,c):\n",
    "    ''' \n",
    "    Ce modèle prend en entrée x représantant\n",
    "    et sort la valeur théorique de y\n",
    "    Les fonctions classiques s'écrivent np.****\n",
    "    Par exemple : np.exp, np.tan, np.sqrt, etc.\n",
    "    '''\n",
    "    return #### A REMPLIR ####\n"
   ]
  },
  {
   "cell_type": "markdown",
   "metadata": {},
   "source": [
    "### Les paramètres initiaux"
   ]
  },
  {
   "cell_type": "code",
   "execution_count": null,
   "metadata": {},
   "outputs": [],
   "source": [
    "a0 = #### A REMPLIR ####\n",
    "b0 = #### A REMPLIR ####\n",
    "c0 = #### A REMPLIR ####\n",
    "\n",
    "\n",
    "p0 = np.array([a0,b0,c0]) \n",
    "# p0 est un tableau contenant la valeur initial de tous les paramètres de l'ajustement, ici seul f.\n",
    "# Cette valeur initiale doit être relativement proche de la valeur atendu pour que l'ajustement reussise "
   ]
  },
  {
   "cell_type": "code",
   "execution_count": null,
   "metadata": {},
   "outputs": [],
   "source": [
    "# curve_fit prend en argument : la fonction, les données en x, en y, les paramètres initiaux, et éventuellement les incertitudes\n",
    "\n",
    "optimisation = curve_fit(modele,angle,tension, sigma=erreurs_tension, p0=p0)\n",
    "\n",
    "# Le résultat contient deux éléments : \n",
    "param = optimisation[0] # les paramètres d'ajustement\n",
    "matrice = optimisation[1] # la matrice de corrélation, dont les coeff diagonaux donnent les incertitudes sur les paramètres"
   ]
  },
  {
   "cell_type": "code",
   "execution_count": null,
   "metadata": {},
   "outputs": [],
   "source": [
    "#Pour tracer les données avec le modèle :\n",
    "a_best = param[0]\n",
    "b_best = param[1]\n",
    "c_best = param[2]\n",
    "incer_a_best = np.sqrt(matrice[0,0])\n",
    "incer_b_best = np.sqrt(matrice[1,1])\n",
    "incer_c_best = np.sqrt(matrice[2,2])\n",
    "\n",
    "plt.errorbar(angle,tension, yerr=erreurs_tension, xerr=erreurs_angle, fmt='o', label=\"données+barres d'erreurs\")\n",
    "plt.plot(angle, modele(angle, a_best, b_best, c_best),label=\"Ajustement du modèle\")\n",
    "\n",
    "plt.xlabel(\"\") ### A REMPLIR ###\n",
    "plt.ylabel(\"\") ### A REMPLIR ###\n",
    "plt.title(\"\") ### A REMPLIR ###\n",
    "plt.legend(loc=2)\n",
    "plt.grid()"
   ]
  },
  {
   "cell_type": "code",
   "execution_count": null,
   "metadata": {},
   "outputs": [],
   "source": []
  }
 ],
 "metadata": {
  "kernelspec": {
   "display_name": "Python 3",
   "language": "python",
   "name": "python3"
  },
  "language_info": {
   "codemirror_mode": {
    "name": "ipython",
    "version": 3
   },
   "file_extension": ".py",
   "mimetype": "text/x-python",
   "name": "python",
   "nbconvert_exporter": "python",
   "pygments_lexer": "ipython3",
   "version": "3.8.3"
  }
 },
 "nbformat": 4,
 "nbformat_minor": 4
}
