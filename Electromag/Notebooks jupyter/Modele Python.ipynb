{
 "cells": [
  {
   "cell_type": "markdown",
   "metadata": {},
   "source": [
    "# Modèle de notebook Jupyter"
   ]
  },
  {
   "cell_type": "markdown",
   "metadata": {},
   "source": [
    "Les notebook incluent la possibilité d'écrire du texte entre les cellules de code. Pour changer la fonction d'une cellule, cliquer sur le menu déroulant dans la barre d'outils, et choisissez \"Markdown\".\n",
    "Pour valider une cellule (code ou texte) : Ctlr + Entrée\n",
    "Pour modifier une cellule texte : double clic\n",
    "\n",
    "Langage Markdown : \n",
    "#, ## ou ### à mettre en début de cellle pour faire un titre. \n",
    "\n",
    "Italique : mettre entre *du texte* entre deux étoiles\n",
    "\n",
    "Gras : idem, avec **une étoile de plus** "
   ]
  },
  {
   "cell_type": "code",
   "execution_count": null,
   "metadata": {},
   "outputs": [],
   "source": [
    "# Import des packages standards\n",
    "import numpy as np\n",
    "import matplotlib.pyplot as plt\n",
    "from scipy.optimize import curve_fit"
   ]
  },
  {
   "cell_type": "markdown",
   "metadata": {},
   "source": [
    "## Données"
   ]
  },
  {
   "cell_type": "code",
   "execution_count": null,
   "metadata": {},
   "outputs": [],
   "source": [
    "# Pour rentrer des données directement dans Python, utiliser des tableaux\n",
    "x = np.array([1, 2, 3])\n",
    "y = np.array([4, 5, 5.5])"
   ]
  },
  {
   "cell_type": "code",
   "execution_count": null,
   "metadata": {},
   "outputs": [],
   "source": [
    "# Pour impoter des fichiers textes provenant d'autres sources\n",
    "x = np.loadtxt(\"data.csv\", delimiter=\" \") # le délimiteur étant à préciser si vous avez plusieurs colonnes, \n",
    "                                          # ici c'est une espace qui sépare les colonnes"
   ]
  },
  {
   "cell_type": "markdown",
   "metadata": {},
   "source": [
    "## Tracer un graphique"
   ]
  },
  {
   "cell_type": "code",
   "execution_count": null,
   "metadata": {},
   "outputs": [],
   "source": [
    "# Pour tracer un graphique sans barres d'erreur\n",
    "\n",
    "plt.plot(x, y, '.', label=\"données\")\n",
    "\n",
    "plt.xlabel(\"l'axe des x\")\n",
    "plt.ylabel(\"l'axe des y\")\n",
    "plt.legend()\n",
    "plt.grid()\n",
    "plt.title(\"Le titre\")"
   ]
  },
  {
   "cell_type": "code",
   "execution_count": null,
   "metadata": {},
   "outputs": [],
   "source": [
    "# Pour tracer un graphique AVEC barres d'erreur\n",
    "\n",
    "erreurs_y = 0.1 * y\n",
    "\n",
    "plt.errorbar(x, y, erreurs_y, fmt='.', label=\"données+barres\")\n",
    "\n",
    "plt.xlabel(\"l'axe des x\")\n",
    "plt.ylabel(\"l'axe des y\")\n",
    "plt.legend(loc=2)\n",
    "plt.grid()\n",
    "plt.title(\"Le titre\")"
   ]
  },
  {
   "cell_type": "markdown",
   "metadata": {},
   "source": [
    "## Ajuster des données"
   ]
  },
  {
   "cell_type": "code",
   "execution_count": null,
   "metadata": {},
   "outputs": [],
   "source": [
    "# Fonction modèle avec une variable et plusieurs paramètres\n",
    "def modele(x, a, b):\n",
    "    return a*x+b\n",
    "\n",
    "# curve_fit prend en argument : la fonction, les données en x, en y, les paramètres initiaux, et éventuellement les incertitudes\n",
    "\n",
    "param, cov_matrice = curve_fit(modele, x, y, p0=[.1, 2], sigma=erreurs_y)\n",
    "# Le résultat contient deux éléments : \n",
    "# les paramètres d'ajustement\n",
    "# la matrice de corrélation, dont les coeff diagonaux donnent les incertitudes sur les paramètres"
   ]
  },
  {
   "cell_type": "code",
   "execution_count": null,
   "metadata": {},
   "outputs": [],
   "source": [
    "#Pour tracer les données avec le modèle :\n",
    "a_best = param[0]\n",
    "b_best = param[1]\n",
    "print(a_best)\n",
    "plt.errorbar(x, y, erreurs_y, fmt='.', label=\"données+barres\")\n",
    "plt.plot(x, modele(x, a_best, b_best), label=\"Ajustement\")\n",
    "plt.xlabel(\"l'axe des x\")\n",
    "plt.ylabel(\"l'axe des y\")\n",
    "plt.legend(loc=2)\n",
    "plt.grid()\n",
    "plt.title(\"Le titre\")"
   ]
  },
  {
   "cell_type": "code",
   "execution_count": null,
   "metadata": {},
   "outputs": [],
   "source": []
  }
 ],
 "metadata": {
  "kernelspec": {
   "display_name": "Python 3",
   "language": "python",
   "name": "python3"
  },
  "language_info": {
   "codemirror_mode": {
    "name": "ipython",
    "version": 3
   },
   "file_extension": ".py",
   "mimetype": "text/x-python",
   "name": "python",
   "nbconvert_exporter": "python",
   "pygments_lexer": "ipython3",
   "version": "3.8.3"
  }
 },
 "nbformat": 4,
 "nbformat_minor": 4
}
